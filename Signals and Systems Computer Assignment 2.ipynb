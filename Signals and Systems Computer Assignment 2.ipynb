{
 "cells": [
  {
   "cell_type": "markdown",
   "metadata": {},
   "source": [
    "# CA2 Report\n",
    "Mohammad Hosein Moti Birjandi\n",
    "\n",
    "StdNo. : 810194472"
   ]
  },
  {
   "cell_type": "markdown",
   "metadata": {},
   "source": [
    "## Noise Cancelling"
   ]
  },
  {
   "cell_type": "markdown",
   "metadata": {},
   "source": [
    "### Imports"
   ]
  },
  {
   "cell_type": "code",
   "execution_count": 19,
   "metadata": {},
   "outputs": [],
   "source": [
    "import numpy as np\n",
    "from scipy.io import wavfile\n",
    "from numpy import fft\n",
    "from matplotlib import pyplot as plt \n",
    "from scipy import signal"
   ]
  },
  {
   "cell_type": "code",
   "execution_count": 20,
   "metadata": {},
   "outputs": [],
   "source": [
    "def nextpow2(x):\n",
    "    return (x-1).bit_length()"
   ]
  },
  {
   "cell_type": "code",
   "execution_count": 21,
   "metadata": {},
   "outputs": [],
   "source": [
    "(rate, sig_data) = wavfile.read('./assets/soundCA2.wav')\n",
    "#print('sampling rate = ', rate)\n",
    "L = len(sig_data)\n",
    "#with open('RawSignalData.txt', 'w') as f:\n",
    "#    for data in sig_data:\n",
    "#        f.write(\"%s\\n\" % data)\n",
    "#print('L =', L, sep=' ')\n",
    "NFFT = 2 ** nextpow2(L)\n",
    "#print('NFFT = ',NFFT)\n",
    "X = fft.fft(sig_data, n=NFFT)\n",
    "#print('X type: ', type(X))\n",
    "#with open('FourierTransform.txt', 'w') as f:\n",
    "#    for data in X:\n",
    "#        f.write(\"%s\\n\" % data)\n",
    "X_abs = 2 * np.absolute(X)/L\n",
    "#with open('AbsFourierTransform.txt', 'w') as f:\n",
    "#    for data in X_abs:\n",
    "#        f.write(\"%s\\n\" % data)\n",
    "#print('X_abs type: ', type(X_abs))\n",
    "half = int(NFFT/2)\n",
    "#print('half = ', half)\n",
    "freq = fft.fftfreq(NFFT, d=1/rate)\n",
    "#print(type(freq))\n",
    "#with open('freq.txt', 'w') as f:\n",
    "#    for data in freq:\n",
    "#        f.write(\"%s\\n\" % data)\n",
    "#print(freq)\n",
    "#print(np.amax(X_abs))"
   ]
  },
  {
   "cell_type": "code",
   "execution_count": 22,
   "metadata": {},
   "outputs": [
    {
     "data": {
      "image/png": "[encoded data removed]",
      "text/plain": [
       "<matplotlib.figure.Figure at 0x2f2c0ad60b8>"
      ]
     },
     "metadata": {
      "needs_background": "light"
     },
     "output_type": "display_data"
    }
   ],
   "source": [
    "fig, ax = plt.subplots(1, 1)\n",
    "ax.plot(freq[:half], X_abs[:half])\n",
    "ax.set_title('Single-Sided Amplitude Spectrum of x(t)')\n",
    "ax.set_xlabel('Frequency [Hz]')\n",
    "ax.set_ylabel('|X(f)|')\n",
    "ax.grid()\n",
    "plt.show()"
   ]
  },
  {
   "cell_type": "markdown",
   "metadata": {},
   "source": [
    "Noise Frequency: 1599 Hz"
   ]
  },
  {
   "cell_type": "code",
   "execution_count": 23,
   "metadata": {},
   "outputs": [],
   "source": [
    "def butter_bandstop_filter(lowcut, highcut, fs, order=5):\n",
    "    nyq = 0.5 * fs\n",
    "    low = lowcut / nyq\n",
    "    high = highcut / nyq\n",
    "    b, a = signal.butter(N=order, Wn=[low, high], btype='bandstop')\n",
    "    return b, a"
   ]
  }
 ],
 "metadata": {
  "kernelspec": {
   "display_name": "Python 3",
   "language": "python",
   "name": "python3"
  },
  "language_info": {
   "codemirror_mode": {
    "name": "ipython",
    "version": 3
   },
   "file_extension": ".py",
   "mimetype": "text/x-python",
   "name": "python",
   "nbconvert_exporter": "python",
   "pygments_lexer": "ipython3",
   "version": "3.5.2"
  }
 },
 "nbformat": 4,
 "nbformat_minor": 2
}
