{
 "cells": [
  {
   "cell_type": "markdown",
   "metadata": {},
   "source": [
    "# CA2 Report\n",
    "Mohammad Hosein Moti Birjandi\n",
    "\n",
    "StdNo. : 810194472"
   ]
  },
  {
   "cell_type": "markdown",
   "metadata": {},
   "source": [
    "## Noise Cancelling"
   ]
  },
  {
   "cell_type": "markdown",
   "metadata": {},
   "source": [
    "### Imports"
   ]
  },
  {
   "cell_type": "code",
   "execution_count": null,
   "metadata": {},
   "outputs": [],
   "source": [
    "import numpy as np\n",
    "from scipy.io import wavfile\n",
    "from numpy import fft\n",
    "from matplotlib import pyplot as plt \n",
    "from scipy import signal"
   ]
  },
  {
   "cell_type": "code",
   "execution_count": null,
   "metadata": {},
   "outputs": [],
   "source": [
    "def nextpow2(x):\n",
    "    return (x-1).bit_length()"
   ]
  },
  {
   "cell_type": "code",
   "execution_count": null,
   "metadata": {},
   "outputs": [],
   "source": [
    "(rate, sig_data) = wavfile.read('./assets/soundCA2.wav')\n",
    "L = len(sig_data)\n",
    "NFFT = 2 ** nextpow2(L)\n",
    "X = fft.fft(sig_data, n=NFFT)\n",
    "X_abs = 2 * np.absolute(X)/L\n",
    "half = int(NFFT/2)\n",
    "freq = fft.fftfreq(NFFT, d=1/rate)"
   ]
  },
  {
   "cell_type": "code",
   "execution_count": null,
   "metadata": {},
   "outputs": [],
   "source": [
    "fig, ax = plt.subplots(1, 1)\n",
    "ax.plot(freq[:half], X_abs[:half])\n",
    "ax.set_title('Single-Sided Amplitude Spectrum of x(t)')\n",
    "ax.set_xlabel('Frequency [Hz]')\n",
    "ax.set_ylabel('|X(f)|')\n",
    "ax.grid()\n",
    "plt.show()"
   ]
  },
  {
   "cell_type": "markdown",
   "metadata": {},
   "source": [
    "Noise Frequency: 1599 Hz"
   ]
  },
  {
   "cell_type": "code",
   "execution_count": null,
   "metadata": {},
   "outputs": [],
   "source": [
    "def butter_bandstop_filter(lowcut, highcut, fs, order=5):\n",
    "    nyq = 0.5 * fs\n",
    "    low = lowcut / nyq\n",
    "    high = highcut / nyq\n",
    "    b, a = signal.butter(N=order, Wn=[low, high], btype='bandstop')\n",
    "    return b, a"
   ]
  },
  {
   "cell_type": "code",
   "execution_count": null,
   "metadata": {},
   "outputs": [],
   "source": [
    "b, a = butter_bandstop_filter(1400, 1800, rate)"
   ]
  },
  {
   "cell_type": "code",
   "execution_count": null,
   "metadata": {},
   "outputs": [],
   "source": [
    "w, h = signal.freqz(b, a, whole =True)\n",
    "fig, ax1 = plt.subplots()\n",
    "ax1.set_title('Filter')\n",
    "ax1.plot(w, abs(h))\n",
    "ax1.grid()\n",
    "plt.show()"
   ]
  },
  {
   "cell_type": "code",
   "execution_count": null,
   "metadata": {},
   "outputs": [],
   "source": [
    "y = signal.lfilter(b, a, sig_data)\n",
    "new_L = len(y)\n",
    "new_NFFT = 2 ** nextpow2(L)\n",
    "new_X = fft.fft(y, n=new_NFFT)\n",
    "new_X_abs = 2 * np.absolute(new_X)/new_L\n",
    "new_half = int(new_NFFT/2)\n",
    "new_freq = fft.fftfreq(new_NFFT, d=1/rate)"
   ]
  },
  {
   "cell_type": "code",
   "execution_count": null,
   "metadata": {},
   "outputs": [],
   "source": [
    "fig, ax = plt.subplots(1, 1)\n",
    "ax.plot(freq[:new_half], new_X_abs[:new_half])\n",
    "ax.set_title('Single-Sided Amplitude Spectrum of x(t)')\n",
    "ax.set_xlabel('Frequency [Hz]')\n",
    "ax.set_ylabel('|X(f)|')\n",
    "ax.grid()\n",
    "plt.show()"
   ]
  },
  {
   "cell_type": "markdown",
   "metadata": {},
   "source": [
    "## Phone Pad Sound"
   ]
  },
  {
   "cell_type": "code",
   "execution_count": null,
   "metadata": {},
   "outputs": [],
   "source": [
    "col_values = [0.9273, 1.0247, 1.1328]\n",
    "row_values = [0.5346, 0.5906, 0.6535, 0.7217]\n",
    "sampling_rate = 8192\n",
    "d1_NFFT = 2048\n",
    "d9_NFFT = 2048"
   ]
  },
  {
   "cell_type": "code",
   "execution_count": null,
   "metadata": {},
   "outputs": [],
   "source": [
    "n = np.array([n for n in range(0,999)])\n",
    "d0 = np.sin(col_values[1] * n) + np.sin(row_values[3] * n)\n",
    "d1 = np.sin(col_values[0] * n) + np.sin(row_values[0] * n)\n",
    "d2 = np.sin(col_values[1] * n) + np.sin(row_values[0] * n)\n",
    "d3 = np.sin(col_values[2] * n) + np.sin(row_values[0] * n)\n",
    "d4 = np.sin(col_values[0] * n) + np.sin(row_values[1] * n)\n",
    "d5 = np.sin(col_values[1] * n) + np.sin(row_values[1] * n)\n",
    "d6 = np.sin(col_values[2] * n) + np.sin(row_values[1] * n)\n",
    "d7 = np.sin(col_values[0] * n) + np.sin(row_values[2] * n)\n",
    "d8 = np.sin(col_values[1] * n) + np.sin(row_values[2] * n)\n",
    "d9 = np.sin(col_values[2] * n) + np.sin(row_values[2] * n)"
   ]
  },
  {
   "cell_type": "code",
   "execution_count": null,
   "metadata": {},
   "outputs": [],
   "source": [
    "wavfile.write('./KeyPadVoices/key_0.wav', sampling_rate, d0)\n",
    "wavfile.write('./KeyPadVoices/key_1.wav', sampling_rate, d1)\n",
    "wavfile.write('./KeyPadVoices/key_2.wav', sampling_rate, d2)\n",
    "wavfile.write('./KeyPadVoices/key_3.wav', sampling_rate, d3)\n",
    "wavfile.write('./KeyPadVoices/key_4.wav', sampling_rate, d4)\n",
    "wavfile.write('./KeyPadVoices/key_5.wav', sampling_rate, d5)\n",
    "wavfile.write('./KeyPadVoices/key_6.wav', sampling_rate, d6)\n",
    "wavfile.write('./KeyPadVoices/key_7.wav', sampling_rate, d7)\n",
    "wavfile.write('./KeyPadVoices/key_8.wav', sampling_rate, d8)\n",
    "wavfile.write('./KeyPadVoices/key_9.wav', sampling_rate, d9)"
   ]
  },
  {
   "cell_type": "markdown",
   "metadata": {},
   "source": [
    "### d1 frequency"
   ]
  },
  {
   "cell_type": "code",
   "execution_count": null,
   "metadata": {},
   "outputs": [],
   "source": [
    "d1_len = len(d1)\n",
    "d1_X = fft.fft(d1, n=d1_NFFT)\n",
    "d1_X_abs = 2 * np.absolute(d1_X)/d1_len\n",
    "d1_half = int(d1_NFFT/2)\n",
    "d1_freq = fft.fftfreq(d1_NFFT, d=1/sampling_rate)"
   ]
  },
  {
   "cell_type": "code",
   "execution_count": null,
   "metadata": {},
   "outputs": [],
   "source": [
    "fig, ax = plt.subplots(1, 1)\n",
    "ax.plot(d1_freq[:d1_half], d1_X_abs[:d1_half])\n",
    "ax.set_title('Single-Sided Amplitude Spectrum of x(t)')\n",
    "ax.set_xlabel('Frequency [Hz]')\n",
    "ax.set_ylabel('|X(f)|')\n",
    "ax.grid()\n",
    "plt.show()"
   ]
  },
  {
   "cell_type": "markdown",
   "metadata": {},
   "source": [
    "### d9 frequency"
   ]
  },
  {
   "cell_type": "code",
   "execution_count": null,
   "metadata": {},
   "outputs": [],
   "source": [
    "d9_len = len(d9)\n",
    "d9_X = fft.fft(d9, n=d9_NFFT)\n",
    "d9_X_abs = 2 * np.absolute(d9_X)/d9_len\n",
    "d9_half = int(d9_NFFT/2)\n",
    "d9_freq = fft.fftfreq(d9_NFFT, d=1/sampling_rate)"
   ]
  },
  {
   "cell_type": "code",
   "execution_count": null,
   "metadata": {},
   "outputs": [],
   "source": [
    "fig, ax = plt.subplots(1, 1)\n",
    "ax.plot(d9_freq[:d9_half], d9_X_abs[:d9_half])\n",
    "ax.set_title('Single-Sided Amplitude Spectrum of x(t)')\n",
    "ax.set_xlabel('Frequency [Hz]')\n",
    "ax.set_ylabel('|X(f)|')\n",
    "ax.grid()\n",
    "plt.show()"
   ]
  },
  {
   "cell_type": "code",
   "execution_count": null,
   "metadata": {},
   "outputs": [],
   "source": [
    "space = np.zeros(100)\n",
    "phone = np.concatenate([d8, space, d1, space, d0, space, d1, space, d9, space, d4, space, d4, space, d7, space, d1, space])\n",
    "wavfile.write('./KeyPadVoices/StudentNumber.wav', sampling_rate, phone)"
   ]
  }
 ],
 "metadata": {
  "kernelspec": {
   "display_name": "Python 3",
   "language": "python",
   "name": "python3"
  },
  "language_info": {
   "codemirror_mode": {
    "name": "ipython",
    "version": 3
   },
   "file_extension": ".py",
   "mimetype": "text/x-python",
   "name": "python",
   "nbconvert_exporter": "python",
   "pygments_lexer": "ipython3",
   "version": "3.5.2"
  }
 },
 "nbformat": 4,
 "nbformat_minor": 2
}
