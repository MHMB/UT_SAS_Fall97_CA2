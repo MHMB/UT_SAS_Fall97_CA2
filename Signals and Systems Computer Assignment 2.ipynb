{
 "cells": [
  {
   "cell_type": "markdown",
   "metadata": {},
   "source": [
    "# CA2 Report\n",
    "Mohammad Hosein Moti Birjandi\n",
    "\n",
    "StdNo. : 810194472"
   ]
  },
  {
   "cell_type": "markdown",
   "metadata": {},
   "source": [
    "## 1- Noise Cancelling"
   ]
  },
  {
   "cell_type": "markdown",
   "metadata": {},
   "source": [
    "#### Imports"
   ]
  },
  {
   "cell_type": "code",
   "execution_count": null,
   "metadata": {},
   "outputs": [],
   "source": [
    "import numpy as np\n",
    "from scipy.io import wavfile\n",
    "from numpy import fft\n",
    "from matplotlib import pyplot as plt \n",
    "from scipy import signal"
   ]
  },
  {
   "cell_type": "code",
   "execution_count": null,
   "metadata": {},
   "outputs": [],
   "source": [
    "def nextpow2(x):\n",
    "    return (x-1).bit_length()"
   ]
  },
  {
   "cell_type": "code",
   "execution_count": null,
   "metadata": {},
   "outputs": [],
   "source": [
    "(rate, sig_data) = wavfile.read('./assets/soundCA2.wav')\n",
    "L = len(sig_data)\n",
    "NFFT = 2 ** nextpow2(L)\n",
    "X = fft.fft(sig_data, n=NFFT)\n",
    "X_abs = 2 * np.absolute(X)/L\n",
    "half = int(NFFT/2)\n",
    "freq = fft.fftfreq(NFFT, d=1/rate)"
   ]
  },
  {
   "cell_type": "code",
   "execution_count": null,
   "metadata": {},
   "outputs": [],
   "source": [
    "fig, ax = plt.subplots(1, 1)\n",
    "ax.plot(freq[:half], X_abs[:half])\n",
    "ax.set_title('Single-Sided Amplitude Spectrum of x(t)')\n",
    "ax.set_xlabel('Frequency [Hz]')\n",
    "ax.set_ylabel('|X(f)|')\n",
    "ax.grid()\n",
    "plt.show()"
   ]
  },
  {
   "cell_type": "markdown",
   "metadata": {},
   "source": [
    "Noise Frequency: 1599 Hz"
   ]
  },
  {
   "cell_type": "code",
   "execution_count": null,
   "metadata": {},
   "outputs": [],
   "source": [
    "def butter_bandstop_filter(lowcut, highcut, fs, order=5):\n",
    "    nyq = 0.5 * fs\n",
    "    low = lowcut / nyq\n",
    "    high = highcut / nyq\n",
    "    b, a = signal.butter(N=order, Wn=[low, high], btype='bandstop')\n",
    "    return b, a"
   ]
  },
  {
   "cell_type": "code",
   "execution_count": null,
   "metadata": {},
   "outputs": [],
   "source": [
    "b, a = butter_bandstop_filter(1400, 1800, rate)"
   ]
  },
  {
   "cell_type": "code",
   "execution_count": null,
   "metadata": {},
   "outputs": [],
   "source": [
    "w, h = signal.freqz(b, a, whole =True)\n",
    "fig, ax1 = plt.subplots()\n",
    "ax1.set_title('Filter')\n",
    "ax1.plot(w, abs(h))\n",
    "ax1.grid()\n",
    "plt.show()"
   ]
  },
  {
   "cell_type": "code",
   "execution_count": null,
   "metadata": {},
   "outputs": [],
   "source": [
    "y = signal.lfilter(b, a, sig_data)\n",
    "new_L = len(y)\n",
    "new_NFFT = 2 ** nextpow2(L)\n",
    "new_X = fft.fft(y, n=new_NFFT)\n",
    "new_X_abs = 2 * np.absolute(new_X)/new_L\n",
    "new_half = int(new_NFFT/2)\n",
    "new_freq = fft.fftfreq(new_NFFT, d=1/rate)"
   ]
  },
  {
   "cell_type": "code",
   "execution_count": null,
   "metadata": {},
   "outputs": [],
   "source": [
    "fig, ax = plt.subplots(1, 1)\n",
    "ax.plot(freq[:new_half], new_X_abs[:new_half])\n",
    "ax.set_title('Single-Sided Amplitude Spectrum of x(t)')\n",
    "ax.set_xlabel('Frequency [Hz]')\n",
    "ax.set_ylabel('|X(f)|')\n",
    "ax.grid()\n",
    "plt.show()"
   ]
  },
  {
   "cell_type": "markdown",
   "metadata": {},
   "source": [
    "## 2- Phone Pad Sound"
   ]
  },
  {
   "cell_type": "markdown",
   "metadata": {},
   "source": [
    "#### Delare Functions"
   ]
  },
  {
   "cell_type": "code",
   "execution_count": null,
   "metadata": {},
   "outputs": [],
   "source": [
    "def get_abs_fourier_transform(raw_signal , signal_NFFT, sampling_rate):\n",
    "    sig_len = len(raw_signal)\n",
    "    sig_X = fft.fft(raw_signal, n=signal_NFFT)\n",
    "    sig_X_abs = 2 * np.absolute(sig_X)/sig_len\n",
    "    sig_half = int(signal_NFFT/2)\n",
    "    sig_freq = fft.fftfreq(signal_NFFT, d=1/sampling_rate)\n",
    "    return sig_freq, sig_X_abs, sig_half"
   ]
  },
  {
   "cell_type": "code",
   "execution_count": null,
   "metadata": {},
   "outputs": [],
   "source": [
    "def draw_signal(x, y, last_index_to_draw, title, x_label, y_label):\n",
    "    plt.plot(x[:last_index_to_draw],y[:last_index_to_draw])\n",
    "    plt.title(title)\n",
    "    plt.xlabel(x_label)\n",
    "    plt.ylabel(y_label)\n",
    "    plt.grid()\n",
    "    plt.show()"
   ]
  },
  {
   "cell_type": "code",
   "execution_count": null,
   "metadata": {},
   "outputs": [],
   "source": [
    "def compare_sig_frequency_spectrum(sig1_X_abs, sig2_X_abs, freq):\n",
    "    if np.array_equal(sig1_X_abs, sig2_X_abs):\n",
    "        print('the same')\n",
    "        return True\n",
    "    else:\n",
    "        if np.allclose(sig1_X_abs, sig2_X_abs, 0.0001):\n",
    "            print('near in the same index')\n",
    "            return True\n",
    "        else:\n",
    "            indexes1 = np.argwhere(sig1_X_abs > 0.17)\n",
    "            indexes2 = np.argwhere(sig2_X_abs > 0.17)\n",
    "            if np.array_equal(indexes1, indexes2):\n",
    "                'same indexes'\n",
    "                return True\n",
    "            else:\n",
    "                'No similarity'\n",
    "                return False"
   ]
  },
  {
   "cell_type": "markdown",
   "metadata": {},
   "source": [
    "#### Declare Constants"
   ]
  },
  {
   "cell_type": "code",
   "execution_count": null,
   "metadata": {},
   "outputs": [],
   "source": [
    "col_values = [0.9273, 1.0247, 1.1328]\n",
    "row_values = [0.5346, 0.5906, 0.6535, 0.7217]\n",
    "sampling_rate = 8192\n",
    "q2_NFFT = 2048"
   ]
  },
  {
   "cell_type": "markdown",
   "metadata": {},
   "source": [
    "### a."
   ]
  },
  {
   "cell_type": "code",
   "execution_count": null,
   "metadata": {},
   "outputs": [],
   "source": [
    "n = np.array([n for n in range(0,999)])\n",
    "d0 = np.sin(col_values[1] * n) + np.sin(row_values[3] * n)\n",
    "d1 = np.sin(col_values[0] * n) + np.sin(row_values[0] * n)\n",
    "d2 = np.sin(col_values[1] * n) + np.sin(row_values[0] * n)\n",
    "d3 = np.sin(col_values[2] * n) + np.sin(row_values[0] * n)\n",
    "d4 = np.sin(col_values[0] * n) + np.sin(row_values[1] * n)\n",
    "d5 = np.sin(col_values[1] * n) + np.sin(row_values[1] * n)\n",
    "d6 = np.sin(col_values[2] * n) + np.sin(row_values[1] * n)\n",
    "d7 = np.sin(col_values[0] * n) + np.sin(row_values[2] * n)\n",
    "d8 = np.sin(col_values[1] * n) + np.sin(row_values[2] * n)\n",
    "d9 = np.sin(col_values[2] * n) + np.sin(row_values[2] * n)"
   ]
  },
  {
   "cell_type": "code",
   "execution_count": null,
   "metadata": {},
   "outputs": [],
   "source": [
    "wavfile.write('./KeyPadVoices/key_0.wav', sampling_rate, d0)\n",
    "wavfile.write('./KeyPadVoices/key_1.wav', sampling_rate, d1)\n",
    "wavfile.write('./KeyPadVoices/key_2.wav', sampling_rate, d2)\n",
    "wavfile.write('./KeyPadVoices/key_3.wav', sampling_rate, d3)\n",
    "wavfile.write('./KeyPadVoices/key_4.wav', sampling_rate, d4)\n",
    "wavfile.write('./KeyPadVoices/key_5.wav', sampling_rate, d5)\n",
    "wavfile.write('./KeyPadVoices/key_6.wav', sampling_rate, d6)\n",
    "wavfile.write('./KeyPadVoices/key_7.wav', sampling_rate, d7)\n",
    "wavfile.write('./KeyPadVoices/key_8.wav', sampling_rate, d8)\n",
    "wavfile.write('./KeyPadVoices/key_9.wav', sampling_rate, d9)"
   ]
  },
  {
   "cell_type": "markdown",
   "metadata": {},
   "source": [
    "### b."
   ]
  },
  {
   "cell_type": "markdown",
   "metadata": {},
   "source": [
    "#### d0 Frequency Spectrum"
   ]
  },
  {
   "cell_type": "code",
   "execution_count": null,
   "metadata": {},
   "outputs": [],
   "source": [
    "d0_x, d0_y, d0_last_index = get_abs_fourier_transform(d0, q2_NFFT, sampling_rate)\n",
    "draw_signal(d0_x, d0_y, d0_last_index,'Single-Sided Amplitude Spectrum of \"0\" key', 'Frequency [Hz]', 'X(f)|')"
   ]
  },
  {
   "cell_type": "markdown",
   "metadata": {},
   "source": [
    "#### d1 Frequency Spectrum"
   ]
  },
  {
   "cell_type": "code",
   "execution_count": null,
   "metadata": {
    "scrolled": true
   },
   "outputs": [],
   "source": [
    "d1_x, d1_y, d1_last_index = get_abs_fourier_transform(d1, q2_NFFT, sampling_rate)\n",
    "draw_signal(d1_x, d1_y, d1_last_index,'Single-Sided Amplitude Spectrum of \"1\" key', 'Frequency [Hz]', 'X(f)|')"
   ]
  },
  {
   "cell_type": "markdown",
   "metadata": {},
   "source": [
    "#### d2 Frequency Spectrum"
   ]
  },
  {
   "cell_type": "code",
   "execution_count": null,
   "metadata": {},
   "outputs": [],
   "source": [
    "d2_x, d2_y, d2_last_index = get_abs_fourier_transform(d2, q2_NFFT, sampling_rate)\n",
    "draw_signal(d2_x, d2_y, d2_last_index,'Single-Sided Amplitude Spectrum of \"2\" key', 'Frequency [Hz]', 'X(f)|')"
   ]
  },
  {
   "cell_type": "markdown",
   "metadata": {},
   "source": [
    "#### d3 Frequency Spectrum"
   ]
  },
  {
   "cell_type": "code",
   "execution_count": null,
   "metadata": {},
   "outputs": [],
   "source": [
    "d3_x, d3_y, d3_last_index = get_abs_fourier_transform(d3, q2_NFFT, sampling_rate)\n",
    "draw_signal(d3_x, d3_y, d3_last_index,'Single-Sided Amplitude Spectrum of \"3\" key', 'Frequency [Hz]', 'X(f)|')"
   ]
  },
  {
   "cell_type": "markdown",
   "metadata": {},
   "source": [
    "#### d4 Frequency Spectrum"
   ]
  },
  {
   "cell_type": "code",
   "execution_count": null,
   "metadata": {},
   "outputs": [],
   "source": [
    "d4_x, d4_y, d4_last_index = get_abs_fourier_transform(d4, q2_NFFT, sampling_rate)\n",
    "draw_signal(d4_x, d4_y, d4_last_index,'Single-Sided Amplitude Spectrum of \"4\" key', 'Frequency [Hz]', 'X(f)|')"
   ]
  },
  {
   "cell_type": "markdown",
   "metadata": {},
   "source": [
    "#### d5 Frequency Spectrum"
   ]
  },
  {
   "cell_type": "code",
   "execution_count": null,
   "metadata": {},
   "outputs": [],
   "source": [
    "d5_x, d5_y, d5_last_index = get_abs_fourier_transform(d5, q2_NFFT, sampling_rate)\n",
    "draw_signal(d5_x, d5_y, d5_last_index,'Single-Sided Amplitude Spectrum of \"5\" key', 'Frequency [Hz]', 'X(f)|')"
   ]
  },
  {
   "cell_type": "markdown",
   "metadata": {},
   "source": [
    "#### d6 Frequency Spectrum"
   ]
  },
  {
   "cell_type": "code",
   "execution_count": null,
   "metadata": {},
   "outputs": [],
   "source": [
    "d6_x, d6_y, d6_last_index = get_abs_fourier_transform(d6, q2_NFFT, sampling_rate)\n",
    "draw_signal(d6_x, d6_y, d6_last_index,'Single-Sided Amplitude Spectrum of \"6\" key', 'Frequency [Hz]', 'X(f)|')"
   ]
  },
  {
   "cell_type": "markdown",
   "metadata": {},
   "source": [
    "#### d7 Frequency Spectrum"
   ]
  },
  {
   "cell_type": "code",
   "execution_count": null,
   "metadata": {},
   "outputs": [],
   "source": [
    "d7_x, d7_y, d7_last_index = get_abs_fourier_transform(d7, q2_NFFT, sampling_rate)\n",
    "draw_signal(d7_x, d7_y, d7_last_index,'Single-Sided Amplitude Spectrum of \"7\" key', 'Frequency [Hz]', 'X(f)|')"
   ]
  },
  {
   "cell_type": "markdown",
   "metadata": {},
   "source": [
    "#### d8 Frequency Spectrum"
   ]
  },
  {
   "cell_type": "code",
   "execution_count": null,
   "metadata": {},
   "outputs": [],
   "source": [
    "d8_x, d8_y, d8_last_index = get_abs_fourier_transform(d8, q2_NFFT, sampling_rate)\n",
    "draw_signal(d8_x, d8_y, d8_last_index,'Single-Sided Amplitude Spectrum of \"8\" key', 'Frequency [Hz]', 'X(f)|')"
   ]
  },
  {
   "cell_type": "markdown",
   "metadata": {},
   "source": [
    "#### d9 frequency"
   ]
  },
  {
   "cell_type": "code",
   "execution_count": null,
   "metadata": {
    "scrolled": true
   },
   "outputs": [],
   "source": [
    "d9_x, d9_y, d9_last_index = get_abs_fourier_transform(d9, q2_NFFT, sampling_rate)\n",
    "draw_signal(d9_x, d9_y, d9_last_index,'Single-Sided Amplitude Spectrum of \"9\" key', 'Frequency [Hz]', 'X(f)|')"
   ]
  },
  {
   "cell_type": "markdown",
   "metadata": {},
   "source": [
    "### c."
   ]
  },
  {
   "cell_type": "code",
   "execution_count": null,
   "metadata": {},
   "outputs": [],
   "source": [
    "space = np.zeros(100)\n",
    "phone = np.concatenate([d8, space, d1, space, d0, space, d1, space, d9, space, d4, space, d4, space, d7, space, d1, space])\n",
    "wavfile.write('./KeyPadVoices/StudentNumber.wav', sampling_rate, phone)"
   ]
  },
  {
   "cell_type": "markdown",
   "metadata": {},
   "source": [
    "### d."
   ]
  },
  {
   "cell_type": "markdown",
   "metadata": {},
   "source": [
    "#### Imports"
   ]
  },
  {
   "cell_type": "code",
   "execution_count": null,
   "metadata": {},
   "outputs": [],
   "source": [
    "import csv"
   ]
  },
  {
   "cell_type": "markdown",
   "metadata": {},
   "source": [
    "#### Read csv files"
   ]
  },
  {
   "cell_type": "code",
   "execution_count": null,
   "metadata": {},
   "outputs": [],
   "source": [
    "phone1 = np.array([0])\n",
    "phone2 = np.array([0])\n",
    "with open('./assets/phone1.csv', newline='') as csvfile1:\n",
    "    phone1_file_reader = csv.reader(csvfile1)\n",
    "    for row in phone1_file_reader:\n",
    "        phone1 = np.asarray(row)\n",
    "        \n",
    "with open('./assets/phone2.csv', newline='') as csvfile2:\n",
    "    phone2_file_reader = csv.reader(csvfile2)\n",
    "    for row in phone2_file_reader:\n",
    "        phone2 = np.asarray(row)        "
   ]
  },
  {
   "cell_type": "markdown",
   "metadata": {},
   "source": [
    "#### Seprate Digits From Phone Number"
   ]
  },
  {
   "cell_type": "code",
   "execution_count": null,
   "metadata": {},
   "outputs": [],
   "source": [
    "phone1_digit1 = phone1[:1000]\n",
    "phone1_digit2 = phone1[1100:2100]\n",
    "phone1_digit3 = phone1[2200:3200]\n",
    "phone1_digit4 = phone1[3300:4300]\n",
    "phone1_digit5 = phone1[4400:5400]\n",
    "phone1_digit6 = phone1[5500:6500]\n",
    "phone1_digit7 = phone1[6600:7600]"
   ]
  },
  {
   "cell_type": "code",
   "execution_count": null,
   "metadata": {},
   "outputs": [],
   "source": [
    "phone2_digit1 = phone2[:1000]\n",
    "phone2_digit2 = phone2[1100:2100]\n",
    "phone2_digit3 = phone2[2200:3200]\n",
    "phone2_digit4 = phone2[3300:4300]\n",
    "phone2_digit5 = phone2[4400:5400]\n",
    "phone2_digit6 = phone2[5500:6500]\n",
    "phone2_digit7 = phone2[6600:7600]"
   ]
  },
  {
   "cell_type": "markdown",
   "metadata": {},
   "source": [
    "#### Draw Frequency Spectrum of Phone1 Digits"
   ]
  },
  {
   "cell_type": "code",
   "execution_count": null,
   "metadata": {},
   "outputs": [],
   "source": [
    "p1_d1_x, p1_d1_y, p1_d1_last_index = get_abs_fourier_transform(phone1_digit1, q2_NFFT, sampling_rate)\n",
    "draw_signal(p1_d1_x, p1_d1_y, p1_d1_last_index, 'Phone1 Digit 1', 'Frequency [Hz]', '|X(f)|')"
   ]
  },
  {
   "cell_type": "code",
   "execution_count": null,
   "metadata": {},
   "outputs": [],
   "source": [
    "p1_d2_x, p1_d2_y, p1_d2_last_index = get_abs_fourier_transform(phone1_digit2, q2_NFFT, sampling_rate)\n",
    "draw_signal(p1_d2_x, p1_d2_y, p1_d2_last_index, 'Phone1 Digit 2', 'Frequency [Hz]', '|X(f)|')"
   ]
  },
  {
   "cell_type": "code",
   "execution_count": null,
   "metadata": {},
   "outputs": [],
   "source": [
    "p1_d3_x, p1_d3_y, p1_d3_last_index = get_abs_fourier_transform(phone1_digit3, q2_NFFT, sampling_rate)\n",
    "draw_signal(p1_d3_x, p1_d3_y, p1_d3_last_index, 'Phone1 Digit 3', 'Frequency [Hz]', '|X(f)|')"
   ]
  },
  {
   "cell_type": "code",
   "execution_count": null,
   "metadata": {},
   "outputs": [],
   "source": [
    "p1_d4_x, p1_d4_y, p1_d4_last_index = get_abs_fourier_transform(phone1_digit4, q2_NFFT, sampling_rate)\n",
    "draw_signal(p1_d4_x, p1_d4_y, p1_d4_last_index, 'Phone1 Digit 4', 'Frequency [Hz]', '|X(f)|')"
   ]
  },
  {
   "cell_type": "code",
   "execution_count": null,
   "metadata": {},
   "outputs": [],
   "source": [
    "p1_d5_x, p1_d5_y, p1_d5_last_index = get_abs_fourier_transform(phone1_digit5, q2_NFFT, sampling_rate)\n",
    "draw_signal(p1_d5_x, p1_d5_y, p1_d5_last_index, 'Phone1 Digit 5', 'Frequency [Hz]', '|X(f)|')"
   ]
  },
  {
   "cell_type": "code",
   "execution_count": null,
   "metadata": {},
   "outputs": [],
   "source": [
    "p1_d6_x, p1_d6_y, p1_d6_last_index = get_abs_fourier_transform(phone1_digit6, q2_NFFT, sampling_rate)\n",
    "draw_signal(p1_d6_x, p1_d6_y, p1_d6_last_index, 'Phone1 Digit 6', 'Frequency [Hz]', '|X(f)|')"
   ]
  },
  {
   "cell_type": "code",
   "execution_count": null,
   "metadata": {},
   "outputs": [],
   "source": [
    "p1_d7_x, p1_d7_y, p1_d7_last_index = get_abs_fourier_transform(phone1_digit7, q2_NFFT, sampling_rate)\n",
    "draw_signal(p1_d7_x, p1_d7_y, p1_d7_last_index, 'Phone1 Digit 7', 'Frequency [Hz]', '|X(f)|')"
   ]
  },
  {
   "cell_type": "markdown",
   "metadata": {},
   "source": [
    "#### Draw Frequency Spectrum of Phone1 Digits"
   ]
  },
  {
   "cell_type": "code",
   "execution_count": null,
   "metadata": {},
   "outputs": [],
   "source": [
    "p2_d1_x, p2_d1_y, p2_d1_last_index = get_abs_fourier_transform(phone2_digit1, q2_NFFT, sampling_rate)\n",
    "draw_signal(p2_d1_x, p2_d1_y, p2_d1_last_index, 'Phone2 Digit 1', 'Frequency [Hz]', '|X(f)|')"
   ]
  },
  {
   "cell_type": "code",
   "execution_count": null,
   "metadata": {},
   "outputs": [],
   "source": [
    "p2_d2_x, p2_d2_y, p2_d2_last_index = get_abs_fourier_transform(phone2_digit2, q2_NFFT, sampling_rate)\n",
    "draw_signal(p2_d2_x, p2_d2_y, p2_d2_last_index, 'Phone2 Digit 2', 'Frequency [Hz]', '|X(f)|')"
   ]
  },
  {
   "cell_type": "code",
   "execution_count": null,
   "metadata": {},
   "outputs": [],
   "source": [
    "p2_d3_x, p2_d3_y, p2_d3_last_index = get_abs_fourier_transform(phone2_digit3, q2_NFFT, sampling_rate)\n",
    "draw_signal(p2_d3_x, p2_d3_y, p2_d3_last_index, 'Phone2 Digit 3', 'Frequency [Hz]', '|X(f)|')"
   ]
  },
  {
   "cell_type": "code",
   "execution_count": null,
   "metadata": {},
   "outputs": [],
   "source": [
    "p2_d4_x, p2_d4_y, p2_d4_last_index = get_abs_fourier_transform(phone2_digit4, q2_NFFT, sampling_rate)\n",
    "draw_signal(p2_d4_x, p2_d4_y, p2_d4_last_index, 'Phone2 Digit 4', 'Frequency [Hz]', '|X(f)|')"
   ]
  },
  {
   "cell_type": "code",
   "execution_count": null,
   "metadata": {},
   "outputs": [],
   "source": [
    "p2_d5_x, p2_d5_y, p2_d5_last_index = get_abs_fourier_transform(phone2_digit5, q2_NFFT, sampling_rate)\n",
    "draw_signal(p2_d5_x, p2_d5_y, p2_d5_last_index, 'Phone2 Digit 5', 'Frequency [Hz]', '|X(f)|')"
   ]
  },
  {
   "cell_type": "code",
   "execution_count": null,
   "metadata": {},
   "outputs": [],
   "source": [
    "p2_d6_x, p2_d6_y, p2_d6_last_index = get_abs_fourier_transform(phone2_digit6, q2_NFFT, sampling_rate)\n",
    "draw_signal(p2_d6_x, p2_d6_y, p2_d6_last_index, 'Phone2 Digit 6', 'Frequency [Hz]', '|X(f)|')"
   ]
  },
  {
   "cell_type": "code",
   "execution_count": null,
   "metadata": {},
   "outputs": [],
   "source": [
    "p2_d7_x, p2_d7_y, p2_d7_last_index = get_abs_fourier_transform(phone2_digit7, q2_NFFT, sampling_rate)\n",
    "draw_signal(p2_d7_x, p2_d7_y, p2_d7_last_index, 'Phone2 Digit 7', 'Frequency [Hz]', '|X(f)|')"
   ]
  },
  {
   "cell_type": "markdown",
   "metadata": {},
   "source": [
    "#### Guessed Numbers by Comparing Spectrums"
   ]
  },
  {
   "cell_type": "markdown",
   "metadata": {},
   "source": [
    "So the first phone number is: 4915877\n",
    "\n",
    "The second phone number is: 2531000"
   ]
  },
  {
   "cell_type": "markdown",
   "metadata": {},
   "source": [
    "### e."
   ]
  },
  {
   "cell_type": "markdown",
   "metadata": {},
   "source": [
    "#### Print Phone Numbers. No Function"
   ]
  },
  {
   "cell_type": "code",
   "execution_count": null,
   "metadata": {},
   "outputs": [],
   "source": [
    "nums_array = [d0_y, d1_y, d2_y, d3_y, d4_y, d5_y, d6_y, d7_y, d8_y, d9_y]\n",
    "phone1_digits = [p1_d1_y, p1_d2_y, p1_d3_y, p1_d4_y, p1_d5_y, p1_d6_y, p1_d7_y]\n",
    "phone2_digits = [p2_d1_y, p2_d2_y, p2_d3_y, p2_d4_y, p2_d5_y, p2_d6_y, p2_d7_y]\n",
    "phone1_result = list()\n",
    "phone2_result = list()\n",
    "for nuknown_num in phone1_digits:\n",
    "    for i in range(0,10):\n",
    "        if compare_sig_frequency_spectrum(nuknown_num, nums_array[i], d9_x[:d9_last_index]):\n",
    "            phone1_result.append(i)\n",
    "\n",
    "for nuknown_num in phone2_digits:\n",
    "    for i in range(0,10):\n",
    "        if compare_sig_frequency_spectrum(nuknown_num, nums_array[i], d9_x[:d9_last_index]):\n",
    "            phone2_result.append(i)\n",
    "print(phone1_result)\n",
    "print(phone2_result)"
   ]
  },
  {
   "cell_type": "markdown",
   "metadata": {},
   "source": [
    "#### Function ttdecode"
   ]
  },
  {
   "cell_type": "markdown",
   "metadata": {},
   "source": [
    "get phone signal number and return the values in list"
   ]
  },
  {
   "cell_type": "code",
   "execution_count": null,
   "metadata": {},
   "outputs": [],
   "source": [
    "def ttdecode(phone):\n",
    "    col_values = [0.9273, 1.0247, 1.1328]\n",
    "    row_values = [0.5346, 0.5906, 0.6535, 0.7217]\n",
    "    sampling_rate = 8192\n",
    "    NFFT = 2048\n",
    "    n = np.array([n for n in range(0,999)])\n",
    "    d0 = np.sin(col_values[1] * n) + np.sin(row_values[3] * n)\n",
    "    d1 = np.sin(col_values[0] * n) + np.sin(row_values[0] * n)\n",
    "    d2 = np.sin(col_values[1] * n) + np.sin(row_values[0] * n)\n",
    "    d3 = np.sin(col_values[2] * n) + np.sin(row_values[0] * n)\n",
    "    d4 = np.sin(col_values[0] * n) + np.sin(row_values[1] * n)\n",
    "    d5 = np.sin(col_values[1] * n) + np.sin(row_values[1] * n)\n",
    "    d6 = np.sin(col_values[2] * n) + np.sin(row_values[1] * n)\n",
    "    d7 = np.sin(col_values[0] * n) + np.sin(row_values[2] * n)\n",
    "    d8 = np.sin(col_values[1] * n) + np.sin(row_values[2] * n)\n",
    "    d9 = np.sin(col_values[2] * n) + np.sin(row_values[2] * n)\n",
    "    \n",
    "    d0_x, d0_y, d0_last_index = get_abs_fourier_transform(d0, NFFT, sampling_rate)\n",
    "    d1_x, d1_y, d1_last_index = get_abs_fourier_transform(d1, NFFT, sampling_rate)\n",
    "    d2_x, d2_y, d2_last_index = get_abs_fourier_transform(d2, NFFT, sampling_rate)\n",
    "    d3_x, d3_y, d3_last_index = get_abs_fourier_transform(d3, NFFT, sampling_rate)\n",
    "    d4_x, d4_y, d4_last_index = get_abs_fourier_transform(d4, NFFT, sampling_rate)\n",
    "    d5_x, d5_y, d5_last_index = get_abs_fourier_transform(d5, NFFT, sampling_rate)\n",
    "    d6_x, d6_y, d6_last_index = get_abs_fourier_transform(d6, NFFT, sampling_rate)\n",
    "    d7_x, d7_y, d7_last_index = get_abs_fourier_transform(d7, NFFT, sampling_rate)\n",
    "    d8_x, d8_y, d8_last_index = get_abs_fourier_transform(d8, NFFT, sampling_rate)\n",
    "    d9_x, d9_y, d9_last_index = get_abs_fourier_transform(d9, NFFT, sampling_rate)\n",
    "    \n",
    "    phone_digit1 = phone[:1000]\n",
    "    phone_digit2 = phone[1100:2100]\n",
    "    phone_digit3 = phone[2200:3200]\n",
    "    phone_digit4 = phone[3300:4300]\n",
    "    phone_digit5 = phone[4400:5400]\n",
    "    phone_digit6 = phone[5500:6500]\n",
    "    phone_digit7 = phone[6600:7600]\n",
    "    \n",
    "    p_d1_x, p_d1_y, p_d1_last_index = get_abs_fourier_transform(phone_digit1, NFFT, sampling_rate)\n",
    "    p_d2_x, p_d2_y, p_d2_last_index = get_abs_fourier_transform(phone_digit2, NFFT, sampling_rate)\n",
    "    p_d3_x, p_d3_y, p_d3_last_index = get_abs_fourier_transform(phone_digit3, NFFT, sampling_rate)\n",
    "    p_d4_x, p_d4_y, p_d4_last_index = get_abs_fourier_transform(phone_digit4, NFFT, sampling_rate)\n",
    "    p_d5_x, p_d5_y, p_d5_last_index = get_abs_fourier_transform(phone_digit5, NFFT, sampling_rate)\n",
    "    p_d6_x, p_d6_y, p_d6_last_index = get_abs_fourier_transform(phone_digit6, NFFT, sampling_rate)\n",
    "    p_d7_x, p_d7_y, p_d7_last_index = get_abs_fourier_transform(phone_digit7, NFFT, sampling_rate)\n",
    "    \n",
    "    nums_array = [d0_y, d1_y, d2_y, d3_y, d4_y, d5_y, d6_y, d7_y, d8_y, d9_y]\n",
    "    phone_digits = [p_d1_y, p_d2_y, p_d3_y, p_d4_y, p_d5_y, p_d6_y, p_d7_y]\n",
    "    \n",
    "    \n",
    "    phone_result = list()\n",
    "    for nuknown_num in phone_digits:\n",
    "        for i in range(0,10):\n",
    "            if compare_sig_frequency_spectrum(nuknown_num, nums_array[i], d9_x[:d9_last_index]):\n",
    "                phone_result.append(i)\n",
    "                \n",
    "    return phone_result"
   ]
  },
  {
   "cell_type": "code",
   "execution_count": null,
   "metadata": {},
   "outputs": [],
   "source": [
    "testout = ttdecode(phone1)"
   ]
  },
  {
   "cell_type": "code",
   "execution_count": null,
   "metadata": {},
   "outputs": [],
   "source": [
    "print(testout)"
   ]
  },
  {
   "cell_type": "code",
   "execution_count": null,
   "metadata": {},
   "outputs": [],
   "source": [
    "testout = ttdecode(phone2)"
   ]
  },
  {
   "cell_type": "code",
   "execution_count": null,
   "metadata": {},
   "outputs": [],
   "source": [
    "print(testout)"
   ]
  },
  {
   "cell_type": "code",
   "execution_count": null,
   "metadata": {},
   "outputs": [],
   "source": []
  }
 ],
 "metadata": {
  "kernelspec": {
   "display_name": "Python 3",
   "language": "python",
   "name": "python3"
  },
  "language_info": {
   "codemirror_mode": {
    "name": "ipython",
    "version": 3
   },
   "file_extension": ".py",
   "mimetype": "text/x-python",
   "name": "python",
   "nbconvert_exporter": "python",
   "pygments_lexer": "ipython3",
   "version": "3.5.2"
  }
 },
 "nbformat": 4,
 "nbformat_minor": 2
}
